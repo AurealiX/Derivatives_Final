{
 "cells": [
  {
   "cell_type": "markdown",
   "metadata": {},
   "source": [
    "## VaR"
   ]
  },
  {
   "cell_type": "code",
   "execution_count": 1,
   "metadata": {},
   "outputs": [],
   "source": [
    "import yfinance as yf\n",
    "import numpy as np\n",
    "import pandas as pd"
   ]
  },
  {
   "cell_type": "code",
   "execution_count": 2,
   "metadata": {},
   "outputs": [],
   "source": [
    "# Load SPY data function\n",
    "def fetch_data(ticker, start_date, end_date):\n",
    "    data = yf.download(ticker, start=start_date, end=end_date)\n",
    "    return data['Close']"
   ]
  },
  {
   "cell_type": "code",
   "execution_count": 3,
   "metadata": {},
   "outputs": [
    {
     "name": "stdout",
     "output_type": "stream",
     "text": [
      "[*********************100%%**********************]  1 of 1 completed\n"
     ]
    }
   ],
   "source": [
    "# Set parameters\n",
    "ticker = \"SPY\"\n",
    "start_date = \"2022-01-01\"\n",
    "end_date = \"2023-12-31\"\n",
    "alpha = 0.05  # 95% confidence level\n",
    "\n",
    "# Load data\n",
    "data = fetch_data(ticker, start_date, end_date)"
   ]
  },
  {
   "cell_type": "code",
   "execution_count": 4,
   "metadata": {},
   "outputs": [],
   "source": [
    "data_spy = data.to_frame()"
   ]
  },
  {
   "cell_type": "code",
   "execution_count": 5,
   "metadata": {},
   "outputs": [],
   "source": [
    "# Function to calculate VaR\n",
    "def calculate_var(data, window_size, confidence_level, num_simulations):\n",
    "    \"\"\"\n",
    "    Calculate the daily VaR using Monte Carlo method.\n",
    "\n",
    "    Parameters.\n",
    "    data (pd.DataFrame): DataFrame containing the closing price, index should be date.\n",
    "    window_size (int): sliding window size in days.\n",
    "    confidence_level (float): Confidence level of the VaR.\n",
    "    num_simulations (int): number of Monte Carlo simulations.\n",
    "\n",
    "    Returns.\n",
    "    pd.DataFrame: Raw data plus daily VaR.\n",
    "    \"\"\"\n",
    "    # Calculate return\n",
    "    data['Returns'] = data['Close'].pct_change()\n",
    "\n",
    "    # Initialize VaR\n",
    "    vaR_series = pd.Series(np.nan, index=data.index)\n",
    "\n",
    "    # Calcualte VaR based on window size\n",
    "    for i in range(window_size, len(data)):\n",
    "        historical_returns = data['Returns'].iloc[i-window_size:i].dropna()\n",
    "        if len(historical_returns) < window_size:\n",
    "            continue  # If historical data is not enough for window size, continue\n",
    "\n",
    "        mean_returns = historical_returns.mean()\n",
    "        std_dev = historical_returns.std()\n",
    "\n",
    "        simulated_returns = np.random.normal(mean_returns, std_dev, num_simulations)\n",
    "        simulated_losses = -simulated_returns\n",
    "        VaR = np.percentile(simulated_losses, 100 * (1 - confidence_level))\n",
    "        vaR_series[i] = VaR \n",
    "\n",
    "    return vaR_series\n",
    "\n",
    "# Function to calculate strike price\n",
    "def calculate_strike_prices(data, multipliers):\n",
    "    strikes_data = {}\n",
    "    for multiplier in multipliers:\n",
    "        strike_prices = data['Close'] * (1 + data['VaR']) * multiplier\n",
    "        strikes_data[f'Strike_x{multiplier}'] = strike_prices\n",
    "    return pd.DataFrame(strikes_data, index=data.index)"
   ]
  },
  {
   "cell_type": "code",
   "execution_count": 6,
   "metadata": {},
   "outputs": [],
   "source": [
    "# Set parameters (Set 2 weeks as maturity)\n",
    "window_size = 10\n",
    "confidence_level = 0.95\n",
    "num_simulations = 10000\n",
    "\n",
    "# Parameters to calculate different strike price\n",
    "multipliers = [1.1, 1.05, 1, 0.95, 0.9]\n",
    "\n",
    "# Calculate VaR\n",
    "data_spy['VaR'] = calculate_var(data_spy, window_size, confidence_level, num_simulations)"
   ]
  },
  {
   "cell_type": "code",
   "execution_count": 7,
   "metadata": {},
   "outputs": [],
   "source": [
    "data_spy_var = data_spy.dropna()"
   ]
  },
  {
   "cell_type": "code",
   "execution_count": 8,
   "metadata": {},
   "outputs": [],
   "source": [
    "data_strikeprice = calculate_strike_prices(data_spy_var, multipliers)"
   ]
  },
  {
   "cell_type": "code",
   "execution_count": 9,
   "metadata": {},
   "outputs": [
    {
     "data": {
      "text/html": [
       "<div>\n",
       "<style scoped>\n",
       "    .dataframe tbody tr th:only-of-type {\n",
       "        vertical-align: middle;\n",
       "    }\n",
       "\n",
       "    .dataframe tbody tr th {\n",
       "        vertical-align: top;\n",
       "    }\n",
       "\n",
       "    .dataframe thead th {\n",
       "        text-align: right;\n",
       "    }\n",
       "</style>\n",
       "<table border=\"1\" class=\"dataframe\">\n",
       "  <thead>\n",
       "    <tr style=\"text-align: right;\">\n",
       "      <th></th>\n",
       "      <th>Strike_x1.1</th>\n",
       "      <th>Strike_x1.05</th>\n",
       "      <th>Strike_x1</th>\n",
       "      <th>Strike_x0.95</th>\n",
       "      <th>Strike_x0.9</th>\n",
       "    </tr>\n",
       "    <tr>\n",
       "      <th>Date</th>\n",
       "      <th></th>\n",
       "      <th></th>\n",
       "      <th></th>\n",
       "      <th></th>\n",
       "      <th></th>\n",
       "    </tr>\n",
       "  </thead>\n",
       "  <tbody>\n",
       "    <tr>\n",
       "      <th>2022-01-19</th>\n",
       "      <td>491.723331</td>\n",
       "      <td>469.372271</td>\n",
       "      <td>447.021210</td>\n",
       "      <td>424.670150</td>\n",
       "      <td>402.319089</td>\n",
       "    </tr>\n",
       "    <tr>\n",
       "      <th>2022-01-20</th>\n",
       "      <td>486.537113</td>\n",
       "      <td>464.421789</td>\n",
       "      <td>442.306466</td>\n",
       "      <td>420.191143</td>\n",
       "      <td>398.075820</td>\n",
       "    </tr>\n",
       "    <tr>\n",
       "      <th>2022-01-21</th>\n",
       "      <td>477.444743</td>\n",
       "      <td>455.742709</td>\n",
       "      <td>434.040675</td>\n",
       "      <td>412.338642</td>\n",
       "      <td>390.636608</td>\n",
       "    </tr>\n",
       "    <tr>\n",
       "      <th>2022-01-24</th>\n",
       "      <td>479.639017</td>\n",
       "      <td>457.837243</td>\n",
       "      <td>436.035470</td>\n",
       "      <td>414.233696</td>\n",
       "      <td>392.431923</td>\n",
       "    </tr>\n",
       "    <tr>\n",
       "      <th>2022-01-25</th>\n",
       "      <td>472.624639</td>\n",
       "      <td>451.141700</td>\n",
       "      <td>429.658762</td>\n",
       "      <td>408.175824</td>\n",
       "      <td>386.692886</td>\n",
       "    </tr>\n",
       "    <tr>\n",
       "      <th>...</th>\n",
       "      <td>...</td>\n",
       "      <td>...</td>\n",
       "      <td>...</td>\n",
       "      <td>...</td>\n",
       "      <td>...</td>\n",
       "    </tr>\n",
       "    <tr>\n",
       "      <th>2023-12-22</th>\n",
       "      <td>512.701257</td>\n",
       "      <td>489.396654</td>\n",
       "      <td>466.092051</td>\n",
       "      <td>442.787449</td>\n",
       "      <td>419.482846</td>\n",
       "    </tr>\n",
       "    <tr>\n",
       "      <th>2023-12-26</th>\n",
       "      <td>514.988706</td>\n",
       "      <td>491.580128</td>\n",
       "      <td>468.171551</td>\n",
       "      <td>444.762973</td>\n",
       "      <td>421.354396</td>\n",
       "    </tr>\n",
       "    <tr>\n",
       "      <th>2023-12-27</th>\n",
       "      <td>516.073488</td>\n",
       "      <td>492.615602</td>\n",
       "      <td>469.157716</td>\n",
       "      <td>445.699831</td>\n",
       "      <td>422.241945</td>\n",
       "    </tr>\n",
       "    <tr>\n",
       "      <th>2023-12-28</th>\n",
       "      <td>516.189832</td>\n",
       "      <td>492.726658</td>\n",
       "      <td>469.263484</td>\n",
       "      <td>445.800310</td>\n",
       "      <td>422.337135</td>\n",
       "    </tr>\n",
       "    <tr>\n",
       "      <th>2023-12-29</th>\n",
       "      <td>516.468336</td>\n",
       "      <td>492.992503</td>\n",
       "      <td>469.516670</td>\n",
       "      <td>446.040836</td>\n",
       "      <td>422.565003</td>\n",
       "    </tr>\n",
       "  </tbody>\n",
       "</table>\n",
       "<p>490 rows × 5 columns</p>\n",
       "</div>"
      ],
      "text/plain": [
       "            Strike_x1.1  Strike_x1.05   Strike_x1  Strike_x0.95  Strike_x0.9\n",
       "Date                                                                        \n",
       "2022-01-19   491.723331    469.372271  447.021210    424.670150   402.319089\n",
       "2022-01-20   486.537113    464.421789  442.306466    420.191143   398.075820\n",
       "2022-01-21   477.444743    455.742709  434.040675    412.338642   390.636608\n",
       "2022-01-24   479.639017    457.837243  436.035470    414.233696   392.431923\n",
       "2022-01-25   472.624639    451.141700  429.658762    408.175824   386.692886\n",
       "...                 ...           ...         ...           ...          ...\n",
       "2023-12-22   512.701257    489.396654  466.092051    442.787449   419.482846\n",
       "2023-12-26   514.988706    491.580128  468.171551    444.762973   421.354396\n",
       "2023-12-27   516.073488    492.615602  469.157716    445.699831   422.241945\n",
       "2023-12-28   516.189832    492.726658  469.263484    445.800310   422.337135\n",
       "2023-12-29   516.468336    492.992503  469.516670    446.040836   422.565003\n",
       "\n",
       "[490 rows x 5 columns]"
      ]
     },
     "execution_count": 9,
     "metadata": {},
     "output_type": "execute_result"
    }
   ],
   "source": [
    "data_strikeprice"
   ]
  },
  {
   "cell_type": "code",
   "execution_count": 12,
   "metadata": {},
   "outputs": [],
   "source": [
    "data_strikeprice.to_csv('./VaR_strikeprice.csv', index=True)"
   ]
  }
 ],
 "metadata": {
  "kernelspec": {
   "display_name": "base",
   "language": "python",
   "name": "python3"
  },
  "language_info": {
   "codemirror_mode": {
    "name": "ipython",
    "version": 3
   },
   "file_extension": ".py",
   "mimetype": "text/x-python",
   "name": "python",
   "nbconvert_exporter": "python",
   "pygments_lexer": "ipython3",
   "version": "3.8.5"
  }
 },
 "nbformat": 4,
 "nbformat_minor": 2
}
