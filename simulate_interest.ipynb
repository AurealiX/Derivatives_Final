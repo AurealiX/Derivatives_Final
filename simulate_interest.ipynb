{
 "cells": [
  {
   "cell_type": "code",
   "execution_count": 5,
   "metadata": {},
   "outputs": [],
   "source": [
    "import pandas as pd\n",
    "import numpy as np\n",
    "from scipy.optimize import minimize\n",
    "from datetime import datetime, timedelta"
   ]
  },
  {
   "cell_type": "code",
   "execution_count": 50,
   "metadata": {},
   "outputs": [
    {
     "data": {
      "text/plain": [
       "Date\n",
       "2024-01-02    5.39\n",
       "2024-01-03    5.38\n",
       "2024-01-04    5.40\n",
       "2024-01-05    5.39\n",
       "2024-01-08    5.39\n",
       "              ... \n",
       "2024-04-17    5.38\n",
       "2024-04-18    5.38\n",
       "2024-04-19    5.38\n",
       "2024-04-22    5.38\n",
       "2024-04-23    5.38\n",
       "Name: 4 WEEKS COUPON EQUIVALENT, Length: 78, dtype: float64"
      ]
     },
     "execution_count": 50,
     "metadata": {},
     "output_type": "execute_result"
    }
   ],
   "source": [
    "# Load historical data\n",
    "data = pd.read_csv('daily-treasury-rates.csv', parse_dates=['Date'], index_col='Date')\n",
    "data = data['4 WEEKS COUPON EQUIVALENT']\n",
    "data = data.sort_index()\n",
    "data"
   ]
  },
  {
   "cell_type": "code",
   "execution_count": null,
   "metadata": {},
   "outputs": [],
   "source": [
    "weekly_data = data.resample('W-FRI').last()\n",
    "weekly_data = weekly_data.sort_index()\n",
    "\n",
    "weekly_data"
   ]
  },
  {
   "cell_type": "code",
   "execution_count": 46,
   "metadata": {},
   "outputs": [],
   "source": [
    "def ho_lee_params(data):\n",
    "    # Calculate differences Δr\n",
    "    delta_r = data.diff().dropna()\n",
    "    \n",
    "    # Estimate θ and σ\n",
    "    theta = delta_r.mean() / (1/52)  # Assuming weekly data\n",
    "    sigma = delta_r.std() / np.sqrt(1/52)\n",
    "    return theta, sigma\n",
    "\n",
    "def vasicek_params(data):\n",
    "    dt = 1/52  # Weekly time step\n",
    "    r_diff = data.diff().dropna()\n",
    "    r_lagged = data.shift(1).dropna()\n",
    "\n",
    "    def vasicek_loss(params):\n",
    "        a, b, sigma = params\n",
    "        dr_pred = a * (b - r_lagged) * dt\n",
    "        return np.sum((r_diff - dr_pred)**2) + (sigma**2 * dt)\n",
    "\n",
    "    initial_guess = [0.1, data.mean(), data.std()]\n",
    "    result = minimize(vasicek_loss, initial_guess, bounds=[(0, None), (None, None), (0, None)])\n",
    "    return result.x\n",
    "\n",
    "# Calculate parameters\n",
    "hl_theta, hl_sigma = ho_lee_params(data)\n",
    "vas_a, vas_b, vas_sigma = vasicek_params(data)"
   ]
  },
  {
   "cell_type": "code",
   "execution_count": 47,
   "metadata": {},
   "outputs": [],
   "source": [
    "from datetime import datetime\n",
    "\n",
    "# Define the start and end dates\n",
    "start_date = datetime.strptime('2024-04-19', '%Y-%m-%d')\n",
    "end_date = datetime.strptime('2025-06-30', '%Y-%m-%d')\n",
    "\n",
    "# Calculate the number of weeks between the two dates\n",
    "#num_weeks = ((end_date - start_date).days // 7) + 1 \n",
    "num_days = (end_date - start_date).days + 1\n",
    "def simulate_ho_lee(r0, theta, sigma, num_days, dt):\n",
    "    dates = pd.date_range(start=start_date, end=end_date, freq='D')  \n",
    "    rates = [r0]\n",
    "    for _ in range(1, len(dates)):\n",
    "        dr = theta * dt + sigma * np.sqrt(dt) * np.random.normal()\n",
    "        rates.append(rates[-1] + dr)\n",
    "    return pd.Series(rates, index=dates)\n",
    "\n",
    "def simulate_vasicek(r0, a, b, sigma, num_days, dt):\n",
    "    dates = pd.date_range(start=start_date, end=end_date, freq='D')  \n",
    "    rates = [r0]\n",
    "    for _ in range(1, len(dates)):\n",
    "        dr = a * (b - rates[-1]) * dt + sigma * np.sqrt(dt) * np.random.normal()\n",
    "        rates.append(rates[-1] + dr)\n",
    "    return pd.Series(rates, index=dates)\n",
    "\n",
    "dt = 1 / 365\n",
    "# Simulate the interest rates using the Ho-Lee model\n",
    "hl_rates = simulate_ho_lee(initial_rate, hl_theta, hl_sigma, num_days, dt)\n",
    "\n",
    "# Simulate the interest rates using the Vasicek model\n",
    "vas_rates = simulate_vasicek(initial_rate, vas_a, vas_b, vas_sigma, num_days, dt)"
   ]
  },
  {
   "cell_type": "code",
   "execution_count": 43,
   "metadata": {},
   "outputs": [
    {
     "data": {
      "text/plain": [
       "2024-04-19    5.390000\n",
       "2024-04-20    5.391303\n",
       "2024-04-21    5.397414\n",
       "2024-04-22    5.400975\n",
       "2024-04-23    5.400333\n",
       "                ...   \n",
       "2025-06-26    5.363402\n",
       "2025-06-27    5.365943\n",
       "2025-06-28    5.368273\n",
       "2025-06-29    5.372755\n",
       "2025-06-30    5.376217\n",
       "Freq: D, Length: 438, dtype: float64"
      ]
     },
     "execution_count": 43,
     "metadata": {},
     "output_type": "execute_result"
    }
   ],
   "source": [
    "hl_rates"
   ]
  },
  {
   "cell_type": "code",
   "execution_count": 51,
   "metadata": {},
   "outputs": [
    {
     "data": {
      "text/plain": [
       "Timestamp('2024-04-23 00:00:00')"
      ]
     },
     "execution_count": 51,
     "metadata": {},
     "output_type": "execute_result"
    }
   ],
   "source": [
    "last_historical_date = data.index[-1]\n",
    "last_historical_date"
   ]
  },
  {
   "cell_type": "code",
   "execution_count": 53,
   "metadata": {},
   "outputs": [
    {
     "data": {
      "text/plain": [
       "2024-01-02    5.390000\n",
       "2024-01-03    5.380000\n",
       "2024-01-04    5.400000\n",
       "2024-01-05    5.390000\n",
       "2024-01-08    5.390000\n",
       "                ...   \n",
       "2025-06-26    5.523327\n",
       "2025-06-27    5.528787\n",
       "2025-06-28    5.524648\n",
       "2025-06-29    5.529375\n",
       "2025-06-30    5.534833\n",
       "Length: 511, dtype: float64"
      ]
     },
     "execution_count": 53,
     "metadata": {},
     "output_type": "execute_result"
    }
   ],
   "source": [
    "last_historical_date = data.index[-1]\n",
    "trimmed_hl_rates = hl_rates[hl_rates.index > last_historical_date]\n",
    "combined_rates = pd.concat([data, trimmed_hl_rates])\n",
    "combined_rates"
   ]
  },
  {
   "cell_type": "code",
   "execution_count": 70,
   "metadata": {},
   "outputs": [
    {
     "data": {
      "text/html": [
       "<div>\n",
       "<style scoped>\n",
       "    .dataframe tbody tr th:only-of-type {\n",
       "        vertical-align: middle;\n",
       "    }\n",
       "\n",
       "    .dataframe tbody tr th {\n",
       "        vertical-align: top;\n",
       "    }\n",
       "\n",
       "    .dataframe thead th {\n",
       "        text-align: right;\n",
       "    }\n",
       "</style>\n",
       "<table border=\"1\" class=\"dataframe\">\n",
       "  <thead>\n",
       "    <tr style=\"text-align: right;\">\n",
       "      <th></th>\n",
       "      <th>High</th>\n",
       "      <th>Low</th>\n",
       "      <th>Close</th>\n",
       "      <th>ATR</th>\n",
       "      <th>Lower_Bound</th>\n",
       "    </tr>\n",
       "    <tr>\n",
       "      <th>Date</th>\n",
       "      <th></th>\n",
       "      <th></th>\n",
       "      <th></th>\n",
       "      <th></th>\n",
       "      <th></th>\n",
       "    </tr>\n",
       "  </thead>\n",
       "  <tbody>\n",
       "    <tr>\n",
       "      <th>2024-01-02</th>\n",
       "      <td>473.670013</td>\n",
       "      <td>470.489990</td>\n",
       "      <td>472.649994</td>\n",
       "      <td>NaN</td>\n",
       "      <td>NaN</td>\n",
       "    </tr>\n",
       "    <tr>\n",
       "      <th>2024-01-03</th>\n",
       "      <td>471.190002</td>\n",
       "      <td>468.170013</td>\n",
       "      <td>468.790009</td>\n",
       "      <td>NaN</td>\n",
       "      <td>NaN</td>\n",
       "    </tr>\n",
       "    <tr>\n",
       "      <th>2024-01-04</th>\n",
       "      <td>470.959991</td>\n",
       "      <td>467.049988</td>\n",
       "      <td>467.279999</td>\n",
       "      <td>NaN</td>\n",
       "      <td>NaN</td>\n",
       "    </tr>\n",
       "    <tr>\n",
       "      <th>2024-01-05</th>\n",
       "      <td>470.440002</td>\n",
       "      <td>466.429993</td>\n",
       "      <td>467.920013</td>\n",
       "      <td>3.475998</td>\n",
       "      <td>450.540024</td>\n",
       "    </tr>\n",
       "    <tr>\n",
       "      <th>2024-01-08</th>\n",
       "      <td>474.750000</td>\n",
       "      <td>468.299988</td>\n",
       "      <td>474.600006</td>\n",
       "      <td>3.744995</td>\n",
       "      <td>455.875031</td>\n",
       "    </tr>\n",
       "    <tr>\n",
       "      <th>...</th>\n",
       "      <td>...</td>\n",
       "      <td>...</td>\n",
       "      <td>...</td>\n",
       "      <td>...</td>\n",
       "      <td>...</td>\n",
       "    </tr>\n",
       "    <tr>\n",
       "      <th>2025-06-23</th>\n",
       "      <td>526.202438</td>\n",
       "      <td>523.953780</td>\n",
       "      <td>524.003693</td>\n",
       "      <td>1.706360</td>\n",
       "      <td>515.471893</td>\n",
       "    </tr>\n",
       "    <tr>\n",
       "      <th>2025-06-24</th>\n",
       "      <td>524.675610</td>\n",
       "      <td>522.844001</td>\n",
       "      <td>523.059306</td>\n",
       "      <td>1.517754</td>\n",
       "      <td>515.470537</td>\n",
       "    </tr>\n",
       "    <tr>\n",
       "      <th>2025-06-25</th>\n",
       "      <td>524.624845</td>\n",
       "      <td>522.855541</td>\n",
       "      <td>523.994319</td>\n",
       "      <td>1.584812</td>\n",
       "      <td>516.070260</td>\n",
       "    </tr>\n",
       "    <tr>\n",
       "      <th>2025-06-26</th>\n",
       "      <td>524.794327</td>\n",
       "      <td>524.121111</td>\n",
       "      <td>524.503036</td>\n",
       "      <td>1.505991</td>\n",
       "      <td>516.973079</td>\n",
       "    </tr>\n",
       "    <tr>\n",
       "      <th>2025-06-27</th>\n",
       "      <td>524.540587</td>\n",
       "      <td>523.682403</td>\n",
       "      <td>523.738353</td>\n",
       "      <td>1.375274</td>\n",
       "      <td>516.861983</td>\n",
       "    </tr>\n",
       "  </tbody>\n",
       "</table>\n",
       "<p>386 rows × 5 columns</p>\n",
       "</div>"
      ],
      "text/plain": [
       "                  High         Low       Close       ATR  Lower_Bound\n",
       "Date                                                                 \n",
       "2024-01-02  473.670013  470.489990  472.649994       NaN          NaN\n",
       "2024-01-03  471.190002  468.170013  468.790009       NaN          NaN\n",
       "2024-01-04  470.959991  467.049988  467.279999       NaN          NaN\n",
       "2024-01-05  470.440002  466.429993  467.920013  3.475998   450.540024\n",
       "2024-01-08  474.750000  468.299988  474.600006  3.744995   455.875031\n",
       "...                ...         ...         ...       ...          ...\n",
       "2025-06-23  526.202438  523.953780  524.003693  1.706360   515.471893\n",
       "2025-06-24  524.675610  522.844001  523.059306  1.517754   515.470537\n",
       "2025-06-25  524.624845  522.855541  523.994319  1.584812   516.070260\n",
       "2025-06-26  524.794327  524.121111  524.503036  1.505991   516.973079\n",
       "2025-06-27  524.540587  523.682403  523.738353  1.375274   516.861983\n",
       "\n",
       "[386 rows x 5 columns]"
      ]
     },
     "execution_count": 70,
     "metadata": {},
     "output_type": "execute_result"
    }
   ],
   "source": [
    "# Read the simulated stock price data (assumed to be read from your CSV file)\n",
    "df_stock = pd.read_csv('atr_data_gbm.csv', parse_dates=['Date'])\n",
    "df_stock.set_index('Date', inplace=True)\n",
    "df_stock"
   ]
  },
  {
   "cell_type": "code",
   "execution_count": 113,
   "metadata": {},
   "outputs": [
    {
     "name": "stdout",
     "output_type": "stream",
     "text": [
      "2024-01-01    0.000000\n",
      "2024-01-08    0.000000\n",
      "2024-01-15    0.000000\n",
      "2024-01-22    0.000000\n",
      "2024-01-29    0.000000\n",
      "                ...   \n",
      "2025-05-26    0.165299\n",
      "2025-06-02    0.015904\n",
      "2025-06-09    0.221957\n",
      "2025-06-16    0.000000\n",
      "2025-06-23    0.008836\n",
      "Freq: W-MON, Length: 78, dtype: float64\n"
     ]
    },
    {
     "name": "stderr",
     "output_type": "stream",
     "text": [
      "/var/folders/0p/m737z9_n4yqdj0rsxk1vhwx40000gn/T/ipykernel_67560/2624297274.py:67: FutureWarning: Series.__getitem__ treating keys as positions is deprecated. In a future version, integer keys will always be treated as labels (consistent with DataFrame behavior). To access a value by position, use `ser.iloc[pos]`\n",
      "  K = min(weekly_data['Lower_Bound'][-1],weekly_data['Close'][-1]*999)\n"
     ]
    }
   ],
   "source": [
    "combined_rates.sort_index(inplace=True)\n",
    "start_date = '2024-01-01'\n",
    "end_date = '2025-06-27'\n",
    "# Fill missing dates in stock data by forward-filling the previous data\n",
    "df_stock = df_stock.reindex(pd.date_range(start=start_date, end=end_date, freq='D')).ffill().bfill()\n",
    "\n",
    "# Likewise, fill missing rates using the closest available rate\n",
    "combined_rates = combined_rates.reindex(pd.date_range(start=start_date, end=end_date, freq='D')).ffill().bfill()\n",
    "\n",
    "# Define the function for pricing an American put option using a 4-step binomial tree\n",
    "def binomial_american_put_dynamic(S_high, S_low, S_close, K, T, r, N, sigma):\n",
    "    dt = T / N  # Time step in years\n",
    "    r_per_period = np.exp(r * dt) - 1  # The per-period interest rate\n",
    "    \n",
    "    u = np.exp(sigma * np.sqrt(dt))\n",
    "    d = 1 / u\n",
    "    p = (np.exp(r * dt) - d) / (u - d)\n",
    "    assert 0 <= p <= 1, \"Probability p is out of bounds\"\n",
    "    \n",
    "    # Initialize price and option value matrices\n",
    "    stock_tree = np.zeros((N+1, N+1))\n",
    "    option_tree = np.zeros((N+1, N+1))\n",
    "    \n",
    "    # Set up the stock price tree\n",
    "    stock_tree[0, 0] = S_close.iloc[0]  # Monday's closing price as starting price\n",
    "    for i in range(1, N+1):\n",
    "        # Populate the stock price tree\n",
    "        for j in range(i+1):\n",
    "            if j == i:  # Down movements are the daily lows\n",
    "                stock_tree[j, i] = stock_tree[j-1, i-1] * d\n",
    "            else:  # Up movements are the daily highs\n",
    "                stock_tree[j, i] = stock_tree[j, i-1] * u\n",
    "    #print(stock_tree)\n",
    "    # Calculate option values at the last step based on Friday's closing prices\n",
    "    option_tree[:, N] = np.maximum(K - stock_tree[:, N], 0)\n",
    "    \n",
    "    #print(option_tree)\n",
    "    # Backward induction for option prices\n",
    "    for i in range(N-1, -1, -1):\n",
    "        for j in range(i+1):\n",
    "            # Calculate option value at this node\n",
    "            option_tree[j, i] = (p * option_tree[j, i+1] + (1 - p) * option_tree[j+1, i+1]) / (1 + r_per_period)\n",
    "            # American option feature - check for early exercise\n",
    "            option_tree[j, i] = np.maximum(option_tree[j, i], K - stock_tree[j, i])\n",
    "    #print(option_tree)\n",
    "    return option_tree[0, 0]\n",
    "\n",
    "\n",
    "# Simulation settings\n",
    "T = 1/52  # Maturity in years for each weekly option (one week)\n",
    "N = 4  # Number of steps in the binomial model for each week\n",
    "log_returns = np.log(df_stock['Close'] / df_stock['Close'].shift(1))\n",
    "sigma = log_returns.std() * np.sqrt(252) \n",
    "\n",
    "# Calculate option prices every Monday for expiration on Friday\n",
    "weekly_option_prices = []\n",
    "mondays = df_stock.asfreq('W-MON').index\n",
    "fridays = df_stock.asfreq('W-FRI').index\n",
    "\n",
    "for monday in mondays:\n",
    "    friday = monday + pd.DateOffset(days=4)\n",
    "    \n",
    "    # Get the high, low, and closing prices for the week from Monday to Friday\n",
    "    weekly_data = df_stock.loc[monday:friday]\n",
    "    if len(weekly_data) < 5:  # We need all 5 days to have data\n",
    "        continue\n",
    "    K = min(weekly_data['Lower_Bound'][-1],weekly_data['Close'][-1]*999)\n",
    "    #print(K)\n",
    "    S_high = weekly_data['High'][1:]  \n",
    "    S_low = weekly_data['Low'][1:]  \n",
    "    S_close = weekly_data['Close']  \n",
    "    #print(sigma)\n",
    "    \n",
    "    # Get the interest rate for the week\n",
    "    r = combined_rates.loc[friday] / 100  # Use Friday's rate\n",
    "\n",
    "    # Price the option\n",
    "    option_price = binomial_american_put_dynamic(S_high, S_low, S_close, K, T, r, N, sigma)\n",
    "    weekly_option_prices.append(option_price)\n",
    "\n",
    "# Display the results\n",
    "option_prices_series = pd.Series(weekly_option_prices, index=mondays[:len(weekly_option_prices)])\n",
    "print(option_prices_series)"
   ]
  },
  {
   "cell_type": "code",
   "execution_count": 114,
   "metadata": {},
   "outputs": [],
   "source": [
    "option_prices_df = pd.DataFrame(option_prices_series, columns=['Option Price'])\n",
    "option_prices_df.to_csv('option_price.csv')"
   ]
  },
  {
   "cell_type": "code",
   "execution_count": null,
   "metadata": {},
   "outputs": [],
   "source": []
  }
 ],
 "metadata": {
  "kernelspec": {
   "display_name": "math6635",
   "language": "python",
   "name": "python3"
  },
  "language_info": {
   "codemirror_mode": {
    "name": "ipython",
    "version": 3
   },
   "file_extension": ".py",
   "mimetype": "text/x-python",
   "name": "python",
   "nbconvert_exporter": "python",
   "pygments_lexer": "ipython3",
   "version": "3.10.13"
  }
 },
 "nbformat": 4,
 "nbformat_minor": 2
}
